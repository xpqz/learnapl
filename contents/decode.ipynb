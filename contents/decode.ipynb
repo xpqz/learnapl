{
 "cells": [
  {
   "cell_type": "markdown",
   "metadata": {},
   "source": [
    "# Encode decode: `⊤⊥`\n",
    "\n",
    "> Teaching peers is one of the best ways to develop mastery. --_Jeff Atwood_"
   ]
  },
  {
   "attachments": {},
   "cell_type": "markdown",
   "metadata": {},
   "source": [
    "Here's some of APL's secret sauce, not commonly encountered in other languages: _Encode_, `⊤` and _Decode_, `⊥`. _Encode_ and _Decode_ provide efficient basis conversion across potentially mixed radixes. \n",
    "\n",
    "Other resources:\n",
    "* Dyalog docs: [_Encode_](http://help.dyalog.com/latest/index.htm#Language/Primitive%20Functions/Encode.htm), [_Decode_](http://help.dyalog.com/latest/index.htm#Language/Primitive%20Functions/Decode.htm)\n",
    "* Cultivations: [_Encode_](https://xpqz.github.io/cultivations/Encode.html), [_Decode_](https://xpqz.github.io/cultivations/Decode.html)\n",
    "* APL Wiki: [_Encode_](https://aplwiki.com/wiki/Encode), [_Decode_](https://aplwiki.com/wiki/Decode)"
   ]
  },
  {
   "cell_type": "code",
   "execution_count": 1,
   "metadata": {
    "tags": [
     "hide-output"
    ],
    "vscode": {
     "languageId": "apl"
    }
   },
   "outputs": [],
   "source": [
    "⎕IO ← 0 ⍝ You know the drill"
   ]
  },
  {
   "cell_type": "markdown",
   "metadata": {},
   "source": [
    "The canonical example is to convert numbers between bases, for example, converting a base-10 number to 8-bit binary:"
   ]
  },
  {
   "cell_type": "code",
   "execution_count": 5,
   "metadata": {
    "vscode": {
     "languageId": "apl"
    }
   },
   "outputs": [
    {
     "data": {
      "text/html": [
       "<span style=\"white-space:pre; font-family: monospace\">0 0 1 1 0 1 1 0\n",
       "</span>"
      ]
     },
     "execution_count": 5,
     "metadata": {},
     "output_type": "execute_result"
    }
   ],
   "source": [
    "(8⍴2)⊤54"
   ]
  },
  {
   "cell_type": "markdown",
   "metadata": {},
   "source": [
    "...and back to base-10:"
   ]
  },
  {
   "cell_type": "code",
   "execution_count": 6,
   "metadata": {
    "vscode": {
     "languageId": "apl"
    }
   },
   "outputs": [
    {
     "data": {
      "text/html": [
       "<span style=\"white-space:pre; font-family: monospace\">54\n",
       "</span>"
      ]
     },
     "execution_count": 6,
     "metadata": {},
     "output_type": "execute_result"
    }
   ],
   "source": [
    "2⊥0 0 1 1 0 1 1 0"
   ]
  },
  {
   "cell_type": "markdown",
   "metadata": {},
   "source": [
    "I vowed not to mention magic inverses, but these few are too damned useful to leave out. Convert a base-10 number to binary, using the least number of bits:"
   ]
  },
  {
   "cell_type": "code",
   "execution_count": 81,
   "metadata": {
    "vscode": {
     "languageId": "apl"
    }
   },
   "outputs": [
    {
     "data": {
      "text/html": [
       "<span style=\"white-space:pre; font-family: monospace\">1 1 0 1 1 0\n",
       "</span>"
      ]
     },
     "execution_count": 81,
     "metadata": {},
     "output_type": "execute_result"
    }
   ],
   "source": [
    "2∘⊥⍣¯1 ⊢ 54 "
   ]
  },
  {
   "cell_type": "markdown",
   "metadata": {},
   "source": [
    "...and as a consequence, split a number into its constituent digits:"
   ]
  },
  {
   "cell_type": "code",
   "execution_count": 83,
   "metadata": {
    "vscode": {
     "languageId": "apl"
    }
   },
   "outputs": [
    {
     "data": {
      "text/html": [
       "<span style=\"white-space:pre; font-family: monospace\">6 7 7 3 9 8 7 2 3\n",
       "</span>"
      ]
     },
     "execution_count": 83,
     "metadata": {},
     "output_type": "execute_result"
    }
   ],
   "source": [
    "10∘⊥⍣¯1 ⊢ 677398723 ⍝ Number to digit vector"
   ]
  },
  {
   "cell_type": "markdown",
   "metadata": {},
   "source": [
    "Those were all fixed radix. An example of _mixed_ radix is converting between seconds and days, hours, mins and seconds, e.g \"how many days, hours, mins and seconds is 10000 seconds\"?"
   ]
  },
  {
   "cell_type": "code",
   "execution_count": 65,
   "metadata": {
    "vscode": {
     "languageId": "apl"
    }
   },
   "outputs": [
    {
     "data": {
      "text/html": [
       "<span style=\"white-space:pre; font-family: monospace\">0 2 46 40\n",
       "</span>"
      ]
     },
     "execution_count": 65,
     "metadata": {},
     "output_type": "execute_result"
    }
   ],
   "source": [
    "0 24 60 60⊤10000"
   ]
  },
  {
   "cell_type": "markdown",
   "metadata": {},
   "source": [
    "and, conversely, how many seconds in 1 day (and night)?"
   ]
  },
  {
   "cell_type": "code",
   "execution_count": 66,
   "metadata": {
    "vscode": {
     "languageId": "apl"
    }
   },
   "outputs": [
    {
     "data": {
      "text/html": [
       "<span style=\"white-space:pre; font-family: monospace\">86400\n",
       "</span>"
      ]
     },
     "execution_count": 66,
     "metadata": {},
     "output_type": "execute_result"
    }
   ],
   "source": [
    "0 24 60 60⊥1 0 0 0"
   ]
  },
  {
   "cell_type": "markdown",
   "metadata": {},
   "source": [
    "Here's an example of _Decode_ and _Encode_, borrowed from [Mathematica's](https://reference.wolfram.com/language/ref/MixedRadix.html) documentation for its corresponding _MixedRadix_ function."
   ]
  },
  {
   "cell_type": "markdown",
   "metadata": {},
   "source": [
    "A Roman legion was made of 10 _cohorts_, a cohort of 6 _centuries_, a century of 10 _contuberniae_, and a contubernia of 8 soldiers."
   ]
  },
  {
   "cell_type": "code",
   "execution_count": 67,
   "metadata": {
    "vscode": {
     "languageId": "apl"
    }
   },
   "outputs": [],
   "source": [
    "units ← 'legion' 'cohort' 'century' 'contubernia' 'soldier'\n",
    "bases ← 10 10 6 10 8"
   ]
  },
  {
   "cell_type": "markdown",
   "metadata": {},
   "source": [
    "Given 16,894 soldiers, how are they organized?"
   ]
  },
  {
   "cell_type": "code",
   "execution_count": 68,
   "metadata": {
    "vscode": {
     "languageId": "apl"
    }
   },
   "outputs": [
    {
     "data": {
      "text/html": [
       "<span style=\"white-space:pre; font-family: monospace\">┌──────┬──────┬───────┬───────────┬───────┐\n",
       "│legion│cohort│century│contubernia│soldier│\n",
       "├──────┼──────┼───────┼───────────┼───────┤\n",
       "│3     │5     │1      │1          │6      │\n",
       "└──────┴──────┴───────┴───────────┴───────┘\n",
       "</span>"
      ]
     },
     "execution_count": 68,
     "metadata": {},
     "output_type": "execute_result"
    }
   ],
   "source": [
    "↑units (bases⊤16894)"
   ]
  },
  {
   "cell_type": "markdown",
   "metadata": {},
   "source": [
    "Going the other way, how many soldiers are there in a legion? "
   ]
  },
  {
   "cell_type": "code",
   "execution_count": 69,
   "metadata": {
    "vscode": {
     "languageId": "apl"
    }
   },
   "outputs": [
    {
     "data": {
      "text/html": [
       "<span style=\"white-space:pre; font-family: monospace\">4800\n",
       "</span>"
      ]
     },
     "execution_count": 69,
     "metadata": {},
     "output_type": "execute_result"
    }
   ],
   "source": [
    "bases⊥1 0 0 0 0"
   ]
  },
  {
   "cell_type": "markdown",
   "metadata": {},
   "source": [
    "_Decode_ has some less obvious uses, too. For example, we can use `1⊥` to sum vectors:"
   ]
  },
  {
   "cell_type": "code",
   "execution_count": 52,
   "metadata": {
    "vscode": {
     "languageId": "apl"
    }
   },
   "outputs": [
    {
     "data": {
      "text/html": [
       "<span style=\"white-space:pre; font-family: monospace\">55\n",
       "</span>"
      ]
     },
     "execution_count": 52,
     "metadata": {},
     "output_type": "execute_result"
    }
   ],
   "source": [
    "1⊥⍳10"
   ]
  },
  {
   "cell_type": "markdown",
   "metadata": {},
   "source": [
    "The utility of that may not be obvious, but it comes very handy when writing [tacit](tacit.ipynb) code which we'll cover in depth later, but here's a taster -- given a vector where all elements are the same, bar one, what's the index of the \"odd one out\"?"
   ]
  },
  {
   "cell_type": "code",
   "execution_count": 71,
   "metadata": {
    "vscode": {
     "languageId": "apl"
    }
   },
   "outputs": [
    {
     "data": {
      "text/html": [
       "<span style=\"white-space:pre; font-family: monospace\">4\n",
       "</span>"
      ]
     },
     "execution_count": 71,
     "metadata": {},
     "output_type": "execute_result"
    }
   ],
   "source": [
    "(1⍳⍨1⊥∘.=⍨) 243 243 243 243 251 243 243 ⍝ Index of \"odd one out\""
   ]
  },
  {
   "cell_type": "markdown",
   "metadata": {},
   "source": [
    "The enigmatic `⊥⍨` counts trailing 1s:"
   ]
  },
  {
   "cell_type": "code",
   "execution_count": 86,
   "metadata": {
    "vscode": {
     "languageId": "apl"
    }
   },
   "outputs": [
    {
     "data": {
      "text/html": [
       "<span style=\"white-space:pre; font-family: monospace\">5\n",
       "</span>"
      ]
     },
     "execution_count": 86,
     "metadata": {},
     "output_type": "execute_result"
    }
   ],
   "source": [
    "⊥⍨0 1 0 0 1 1 0 1 1 1 1 1"
   ]
  },
  {
   "cell_type": "markdown",
   "metadata": {},
   "source": [
    "We can also use _Encode_ and _Decode_ between indices of an array and its ravel:"
   ]
  },
  {
   "cell_type": "code",
   "execution_count": 2,
   "metadata": {
    "vscode": {
     "languageId": "apl"
    }
   },
   "outputs": [
    {
     "data": {
      "text/html": [
       "<span style=\"white-space:pre; font-family: monospace\"> 3 0 5 12  4\n",
       " 9 8 6  2 10\n",
       "11 7 1 14 13\n",
       "</span>"
      ]
     },
     "execution_count": 2,
     "metadata": {},
     "output_type": "execute_result"
    },
    {
     "data": {
      "text/html": [
       "<span style=\"white-space:pre; font-family: monospace\">3 0 5 12 4 9 8 6 2 10 11 7 1 14 13\n",
       "</span>"
      ]
     },
     "execution_count": 2,
     "metadata": {},
     "output_type": "execute_result"
    }
   ],
   "source": [
    "⎕ ← m ← 3 5 ⍴15?15\n",
    "⎕ ← rav ← ,m"
   ]
  },
  {
   "cell_type": "markdown",
   "metadata": {},
   "source": [
    "Given `index ← 1 4` into the above array, what's the corresponding index into the ravel vector?"
   ]
  },
  {
   "cell_type": "code",
   "execution_count": 3,
   "metadata": {
    "vscode": {
     "languageId": "apl"
    }
   },
   "outputs": [
    {
     "data": {
      "text/html": [
       "<span style=\"white-space:pre; font-family: monospace\">9\n",
       "</span>"
      ]
     },
     "execution_count": 3,
     "metadata": {},
     "output_type": "execute_result"
    },
    {
     "data": {
      "text/html": [
       "<span style=\"white-space:pre; font-family: monospace\">10\n",
       "</span>"
      ]
     },
     "execution_count": 3,
     "metadata": {},
     "output_type": "execute_result"
    },
    {
     "data": {
      "text/html": [
       "<span style=\"white-space:pre; font-family: monospace\">10\n",
       "</span>"
      ]
     },
     "execution_count": 3,
     "metadata": {},
     "output_type": "execute_result"
    }
   ],
   "source": [
    "index ← 1 4\n",
    "⎕ ← k ← (⍴m)⊥index ⍝ 2D to 1D\n",
    "m[⊂index]\n",
    "k⊃rav"
   ]
  },
  {
   "cell_type": "markdown",
   "metadata": {},
   "source": [
    "And the reverse:"
   ]
  },
  {
   "cell_type": "code",
   "execution_count": 4,
   "metadata": {
    "vscode": {
     "languageId": "apl"
    }
   },
   "outputs": [
    {
     "data": {
      "text/html": [
       "<span style=\"white-space:pre; font-family: monospace\">1 4\n",
       "</span>"
      ]
     },
     "execution_count": 4,
     "metadata": {},
     "output_type": "execute_result"
    }
   ],
   "source": [
    "⎕ ← i j←(⍴m)⊤k ⍝ 1D to 2D"
   ]
  },
  {
   "cell_type": "markdown",
   "metadata": {},
   "source": [
    "## Higher ranks\n",
    "\n",
    "So far, we only used vectors as arguments to _Encode_ and _Decode_. However, they can take arguments of higher ranks, too. It may not be immediately obvious what this means, so let's look at that.\n",
    "\n",
    "_Encode_ returns an array where the shape is the combined shape of the left and right arguments:"
   ]
  },
  {
   "cell_type": "code",
   "execution_count": 1,
   "metadata": {
    "vscode": {
     "languageId": "apl"
    }
   },
   "outputs": [
    {
     "data": {
      "text/html": [
       "<pre class=\"language-APL\"> 1  2  4  5\n",
       "23 46 10 33\n",
       "20 40  0 20\n",
       "</pre>"
      ]
     },
     "execution_count": 1,
     "metadata": {},
     "output_type": "execute_result"
    }
   ],
   "source": [
    "24 60 60⊤5000 10000 15000 20000 ⍝ Convert 5000 10000 15000 20000 to HMS"
   ]
  },
  {
   "cell_type": "markdown",
   "metadata": {},
   "source": [
    "So the shape is `3 4`. If we apply the same operation to a matrix, the same relationship holds:"
   ]
  },
  {
   "cell_type": "code",
   "execution_count": 3,
   "metadata": {
    "vscode": {
     "languageId": "apl"
    }
   },
   "outputs": [
    {
     "data": {
      "text/html": [
       "<pre class=\"language-APL\"> 5000 10000\n",
       "15000 20000\n",
       "</pre>"
      ]
     },
     "execution_count": 3,
     "metadata": {},
     "output_type": "execute_result"
    },
    {
     "data": {
      "text/html": [
       "<pre class=\"language-APL\"> 1  2\n",
       " 4  5\n",
       "\n",
       "23 46\n",
       "10 33\n",
       "\n",
       "20 40\n",
       " 0 20\n",
       "</pre>"
      ]
     },
     "execution_count": 3,
     "metadata": {},
     "output_type": "execute_result"
    }
   ],
   "source": [
    "seconds ← ⎕ ← 2 2⍴5000 10000 15000 20000\n",
    "24 60 60⊤seconds"
   ]
  },
  {
   "cell_type": "markdown",
   "metadata": {},
   "source": [
    "Again, the shape is 3 layers (as `3=≢24 60 60`) of shape `2 2`. The leading axis holds the results which is easier to see with a transpose applied:"
   ]
  },
  {
   "cell_type": "code",
   "execution_count": 7,
   "metadata": {
    "vscode": {
     "languageId": "apl"
    }
   },
   "outputs": [
    {
     "data": {
      "text/html": [
       "<pre class=\"language-APL\">1 23 20\n",
       "2 46 40\n",
       "\n",
       "4 10  0\n",
       "5 33 20\n",
       "</pre>"
      ]
     },
     "execution_count": 7,
     "metadata": {},
     "output_type": "execute_result"
    }
   ],
   "source": [
    "⎕IO←0\n",
    "2 0 1⍉24 60 60⊤seconds"
   ]
  },
  {
   "cell_type": "markdown",
   "metadata": {},
   "source": [
    "Perhaps more surprisingly, we can use a higher-ranked argument to the _left_, too. It then provides _multiple_ radix vectors into which to encode the right hand side. Let's say we want to convert a set of numbers to bases 10 and 16:"
   ]
  },
  {
   "cell_type": "code",
   "execution_count": 8,
   "metadata": {
    "vscode": {
     "languageId": "apl"
    }
   },
   "outputs": [
    {
     "data": {
      "text/html": [
       "<pre class=\"language-APL\">10 16\n",
       "10 16\n",
       "10 16\n",
       "</pre>"
      ]
     },
     "execution_count": 8,
     "metadata": {},
     "output_type": "execute_result"
    },
    {
     "data": {
      "text/html": [
       "<pre class=\"language-APL\">1 2\n",
       "0 1\n",
       "\n",
       "2 5\n",
       "8 0\n",
       "\n",
       "8 6\n",
       "0 0\n",
       "</pre>"
      ]
     },
     "execution_count": 8,
     "metadata": {},
     "output_type": "execute_result"
    }
   ],
   "source": [
    "radix ← ⎕ ← 3 2⍴10 16\n",
    "radix⊤128 256"
   ]
  },
  {
   "cell_type": "markdown",
   "metadata": {},
   "source": [
    "We expected the shape `3 2 2`, but perhaps it's tricky to untangle why the result looks like it does. It's essentially an outer product, with a different axis order:"
   ]
  },
  {
   "cell_type": "code",
   "execution_count": 9,
   "metadata": {
    "vscode": {
     "languageId": "apl"
    }
   },
   "outputs": [
    {
     "data": {
      "text/html": [
       "<pre class=\"language-APL\">1 2\n",
       "0 1\n",
       "\n",
       "2 5\n",
       "8 0\n",
       "\n",
       "8 6\n",
       "0 0\n",
       "</pre>"
      ]
     },
     "execution_count": 9,
     "metadata": {},
     "output_type": "execute_result"
    }
   ],
   "source": [
    "⍉↑⍉(10 10 10)(16 16 16)∘.⊤128 256"
   ]
  },
  {
   "cell_type": "code",
   "execution_count": 10,
   "metadata": {
    "vscode": {
     "languageId": "apl"
    }
   },
   "outputs": [
    {
     "data": {
      "text/html": [
       "<pre class=\"language-APL\">1 2 8\n",
       "0 8 0\n",
       "\n",
       "2 5 6\n",
       "1 0 0\n",
       "</pre>"
      ]
     },
     "execution_count": 10,
     "metadata": {},
     "output_type": "execute_result"
    }
   ],
   "source": [
    "⍉(3 2⍴10 16)⊤128 256"
   ]
  },
  {
   "cell_type": "markdown",
   "metadata": {},
   "source": [
    "which is\n",
    "\n",
    "    128 = (1,2,8)₁₀\n",
    "    128 = (0,8,0)₁₆\n",
    "\n",
    "    256 = (2,5,6)₁₀\n",
    "    256 = (1,0,0)₁₆"
   ]
  },
  {
   "cell_type": "markdown",
   "metadata": {},
   "source": [
    "Higher ranks for both left and right left as an exercise for the interested reader."
   ]
  },
  {
   "cell_type": "code",
   "execution_count": null,
   "metadata": {
    "vscode": {
     "languageId": "apl"
    }
   },
   "outputs": [],
   "source": []
  }
 ],
 "metadata": {
  "kernelspec": {
   "display_name": "Dyalog APL",
   "language": "apl",
   "name": "dyalog-kernel"
  },
  "language_info": {
   "file_extension": ".apl",
   "mimetype": "text/apl",
   "name": "APL"
  }
 },
 "nbformat": 4,
 "nbformat_minor": 4
}
